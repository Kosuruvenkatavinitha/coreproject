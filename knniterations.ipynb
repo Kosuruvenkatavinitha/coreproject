{
  "nbformat": 4,
  "nbformat_minor": 0,
  "metadata": {
    "colab": {
      "provenance": [],
      "include_colab_link": true
    },
    "kernelspec": {
      "name": "python3",
      "display_name": "Python 3"
    },
    "language_info": {
      "name": "python"
    }
  },
  "cells": [
    {
      "cell_type": "markdown",
      "metadata": {
        "id": "view-in-github",
        "colab_type": "text"
      },
      "source": [
        "<a href=\"https://colab.research.google.com/github/Kosuruvenkatavinitha/coreproject/blob/main/knniterations.ipynb\" target=\"_parent\"><img src=\"https://colab.research.google.com/assets/colab-badge.svg\" alt=\"Open In Colab\"/></a>"
      ]
    },
    {
      "cell_type": "code",
      "execution_count": 2,
      "metadata": {
        "id": "lI470cSz78V1",
        "colab": {
          "base_uri": "https://localhost:8080/"
        },
        "outputId": "f5cbd3e8-52ca-48df-973e-047827738420"
      },
      "outputs": [
        {
          "output_type": "stream",
          "name": "stdout",
          "text": [
            "Iteration 1: Accuracy = 0.976\n",
            "Iteration 2: Accuracy = 0.9735\n",
            "Iteration 3: Accuracy = 0.9725\n",
            "Iteration 4: Accuracy = 0.973\n",
            "Iteration 5: Accuracy = 0.972\n",
            "Iteration 6: Accuracy = 0.975\n",
            "Iteration 7: Accuracy = 0.973\n",
            "Iteration 8: Accuracy = 0.9765\n",
            "Iteration 9: Accuracy = 0.97\n",
            "Iteration 10: Accuracy = 0.9715\n",
            "Iteration 11: Accuracy = 0.977\n",
            "Iteration 12: Accuracy = 0.9745\n",
            "Iteration 13: Accuracy = 0.9745\n",
            "Iteration 14: Accuracy = 0.971\n",
            "Iteration 15: Accuracy = 0.9715\n",
            "Iteration 16: Accuracy = 0.974\n",
            "Iteration 17: Accuracy = 0.972\n",
            "Iteration 18: Accuracy = 0.9725\n",
            "Iteration 19: Accuracy = 0.964\n",
            "Iteration 20: Accuracy = 0.9705\n",
            "\n",
            "20 Iterations Average Results:\n",
            "Average Accuracy: 0.9727250000000002\n",
            "Average Precision: 0.7325914356236755\n",
            "Average F1 Score: 0.445801528239928\n",
            "Average Recall: 0.3221577693839512\n"
          ]
        }
      ],
      "source": [
        "import pandas as pd\n",
        "from sklearn.model_selection import train_test_split\n",
        "from sklearn.neighbors import KNeighborsClassifier\n",
        "from sklearn.metrics import accuracy_score, precision_score, f1_score, recall_score\n",
        "import pandas as pd\n",
        "\n",
        "# Load your dataset and prepare the features (X) and labels (y)\n",
        "df = pd.read_csv('/content/predictive_maintenance.csv')\n",
        "\n",
        "# Drop non-numeric columns for simplicity\n",
        "df_numeric = df.drop(['Product ID', 'Type', 'Failure Type'], axis=1)\n",
        "\n",
        "# Separate features (X) and labels (y)\n",
        "X = df_numeric.iloc[:, :-1].values\n",
        "y = df_numeric.iloc[:, -1].values\n",
        "\n",
        "# Set the number of iterations\n",
        "num_iterations = 20\n",
        "\n",
        "# Initialize variables to store results\n",
        "accuracy_list = []\n",
        "precision_list = []\n",
        "f1_list = []\n",
        "recall_list = []\n",
        "\n",
        "# Perform 20 iterations\n",
        "for i in range(num_iterations):\n",
        "    # Split the data into training and testing sets\n",
        "    X_train, X_test, y_train, y_test = train_test_split(X, y, test_size=0.2, random_state=None)  # Random state is set to None for true randomness\n",
        "\n",
        "    # Create and train the k-Nearest Neighbors model with k=3 (you can adjust the value of k)\n",
        "    knn_model = KNeighborsClassifier(n_neighbors=3)\n",
        "    knn_model.fit(X_train, y_train)\n",
        "\n",
        "    # Make predictions on the test data\n",
        "    y_pred = knn_model.predict(X_test)\n",
        "\n",
        "    # Calculate metrics for this iteration\n",
        "    accuracy = accuracy_score(y_test, y_pred)\n",
        "    precision = precision_score(y_test, y_pred)\n",
        "    f1 = f1_score(y_test, y_pred)\n",
        "    recall = recall_score(y_test, y_pred)\n",
        "\n",
        "    # Append results to lists\n",
        "    accuracy_list.append(accuracy)\n",
        "    precision_list.append(precision)\n",
        "    f1_list.append(f1)\n",
        "    recall_list.append(recall)\n",
        "\n",
        "    # Print accuracy for this iteration\n",
        "    print(f\"Iteration {i + 1}: Accuracy = {accuracy}\")\n",
        "\n",
        "# Calculate average metrics over all iterations\n",
        "average_accuracy = sum(accuracy_list) / num_iterations\n",
        "average_precision = sum(precision_list) / num_iterations\n",
        "average_f1 = sum(f1_list) / num_iterations\n",
        "average_recall = sum(recall_list) / num_iterations\n",
        "\n",
        "# Print the results\n",
        "print(f\"\\n{num_iterations} Iterations Average Results:\")\n",
        "print(\"Average Accuracy:\", average_accuracy)\n",
        "print(\"Average Precision:\", average_precision)\n",
        "print(\"Average F1 Score:\", average_f1)\n",
        "print(\"Average Recall:\", average_recall)\n"
      ]
    },
    {
      "cell_type": "code",
      "source": [
        "for image_file in image_files:\n",
        "    # Open the image\n",
        "    img = Image.open(os.path.join(image_directory, image_file))\n",
        "\n",
        "    # Resize the image\n",
        "    img = img.resize(target_size, Image.ANTIALIAS)\n",
        "\n",
        "    # Save the resized image to the output directory\n",
        "    img.save(os.path.join(output_directory, image_file))\n"
      ],
      "metadata": {
        "colab": {
          "base_uri": "https://localhost:8080/"
        },
        "id": "BLucu2gP8Heb",
        "outputId": "4c8f6abb-9a11-4d0b-94ee-5404cef9e1f1"
      },
      "execution_count": null,
      "outputs": [
        {
          "output_type": "stream",
          "name": "stderr",
          "text": [
            "<ipython-input-4-2d08ef3f4b8e>:6: DeprecationWarning: ANTIALIAS is deprecated and will be removed in Pillow 10 (2023-07-01). Use LANCZOS or Resampling.LANCZOS instead.\n",
            "  img = img.resize(target_size, Image.ANTIALIAS)\n"
          ]
        }
      ]
    }
  ]
}