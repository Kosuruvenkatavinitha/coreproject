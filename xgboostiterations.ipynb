{
  "nbformat": 4,
  "nbformat_minor": 0,
  "metadata": {
    "colab": {
      "provenance": [],
      "mount_file_id": "1JSv23y1IGTmFhlmIs7jZS8SozxafTiI0",
      "authorship_tag": "ABX9TyMfYoHYkCmneW9wkpxPBgwU",
      "include_colab_link": true
    },
    "kernelspec": {
      "name": "python3",
      "display_name": "Python 3"
    },
    "language_info": {
      "name": "python"
    }
  },
  "cells": [
    {
      "cell_type": "markdown",
      "metadata": {
        "id": "view-in-github",
        "colab_type": "text"
      },
      "source": [
        "<a href=\"https://colab.research.google.com/github/Kosuruvenkatavinitha/coreproject/blob/main/xgboostiterations.ipynb\" target=\"_parent\"><img src=\"https://colab.research.google.com/assets/colab-badge.svg\" alt=\"Open In Colab\"/></a>"
      ]
    },
    {
      "cell_type": "code",
      "execution_count": 3,
      "metadata": {
        "colab": {
          "base_uri": "https://localhost:8080/"
        },
        "id": "gQhXnpEZ-Cny",
        "outputId": "ddfa2c83-b93e-4bb3-ee9b-8b33acad2884"
      },
      "outputs": [
        {
          "output_type": "stream",
          "name": "stdout",
          "text": [
            "Iteration 1 - Accuracy: 0.9695\n",
            "Iteration 2 - Accuracy: 0.9770\n",
            "Iteration 3 - Accuracy: 0.9790\n",
            "Iteration 4 - Accuracy: 0.9815\n",
            "Iteration 5 - Accuracy: 0.9810\n",
            "Iteration 6 - Accuracy: 0.9820\n",
            "Iteration 7 - Accuracy: 0.9825\n",
            "Iteration 8 - Accuracy: 0.9845\n",
            "Iteration 9 - Accuracy: 0.9850\n",
            "Iteration 10 - Accuracy: 0.9845\n",
            "Iteration 11 - Accuracy: 0.9855\n",
            "Iteration 12 - Accuracy: 0.9840\n",
            "Iteration 13 - Accuracy: 0.9830\n",
            "Iteration 14 - Accuracy: 0.9845\n",
            "Iteration 15 - Accuracy: 0.9845\n",
            "Iteration 16 - Accuracy: 0.9830\n",
            "Iteration 17 - Accuracy: 0.9825\n",
            "Iteration 18 - Accuracy: 0.9835\n",
            "Iteration 19 - Accuracy: 0.9845\n",
            "Iteration 20 - Accuracy: 0.9835\n"
          ]
        }
      ],
      "source": [
        "import pandas as pd\n",
        "from sklearn.model_selection import train_test_split\n",
        "from sklearn.metrics import accuracy_score\n",
        "import xgboost as xgb\n",
        "\n",
        "# Load your dataset and prepare the features (X) and labels (y)\n",
        "df = pd.read_csv('/content/drive/MyDrive/predictive_maintenance[1].csv')\n",
        "\n",
        "# Drop non-numeric columns for simplicity\n",
        "df_numeric = df.drop(['Product ID', 'Type', 'Failure Type'], axis=1)\n",
        "\n",
        "# Separate features (X) and labels (y)\n",
        "X = df_numeric.iloc[:, :-1].values\n",
        "y = df_numeric.iloc[:, -1].values\n",
        "\n",
        "# Split the data into training and testing sets\n",
        "X_train, X_test, y_train, y_test = train_test_split(X, y, test_size=0.2, random_state=42)\n",
        "\n",
        "# Initialize lists to store accuracy for each iteration\n",
        "accuracies = []\n",
        "\n",
        "# Define the range of iterations you want to test\n",
        "iterations = range(1, 21)  # Test from 1 to 20 iterations\n",
        "\n",
        "for n_iterations in iterations:\n",
        "    # Create and train the XGBoost model with the current number of iterations\n",
        "    xgb_model = xgb.XGBClassifier(objective=\"binary:logistic\", n_estimators=n_iterations, random_state=42)\n",
        "    xgb_model.fit(X_train, y_train)\n",
        "\n",
        "    # Make predictions on the test data\n",
        "    y_pred = xgb_model.predict(X_test)\n",
        "\n",
        "    # Calculate accuracy for the current iteration and append to the list\n",
        "    accuracy = accuracy_score(y_test, y_pred)\n",
        "    accuracies.append(accuracy)\n",
        "\n",
        "# Print the results for each iteration\n",
        "for i, accuracy in enumerate(accuracies):\n",
        "    print(f\"Iteration {iterations[i]} - Accuracy: {accuracy:.4f}\")\n"
      ]
    }
  ]
}