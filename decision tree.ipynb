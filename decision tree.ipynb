{
  "nbformat": 4,
  "nbformat_minor": 0,
  "metadata": {
    "colab": {
      "provenance": [],
      "mount_file_id": "1Z_KKoxPdAYIQAiHhaooKFHtf5wOU9_0T",
      "authorship_tag": "ABX9TyNGrx9KnGAFXKW6CWcLVBzO",
      "include_colab_link": true
    },
    "kernelspec": {
      "name": "python3",
      "display_name": "Python 3"
    },
    "language_info": {
      "name": "python"
    }
  },
  "cells": [
    {
      "cell_type": "markdown",
      "metadata": {
        "id": "view-in-github",
        "colab_type": "text"
      },
      "source": [
        "<a href=\"https://colab.research.google.com/github/Kosuruvenkatavinitha/coreproject/blob/main/decision%20tree.ipynb\" target=\"_parent\"><img src=\"https://colab.research.google.com/assets/colab-badge.svg\" alt=\"Open In Colab\"/></a>"
      ]
    },
    {
      "cell_type": "code",
      "execution_count": 5,
      "metadata": {
        "colab": {
          "base_uri": "https://localhost:8080/"
        },
        "id": "VlK2qQKRz0Fy",
        "outputId": "9f7f3dbc-4019-4a82-8f69-d25cfc1a68de"
      },
      "outputs": [
        {
          "output_type": "stream",
          "name": "stdout",
          "text": [
            "Anomaly Detection Results:\n",
            "Accuracy (Isolation Forest): 0.8965\n",
            "Classification Report (Isolation Forest):\n",
            "               precision    recall  f1-score   support\n",
            "\n",
            "           0       0.98      0.91      0.94      1939\n",
            "           1       0.14      0.44      0.21        61\n",
            "\n",
            "    accuracy                           0.90      2000\n",
            "   macro avg       0.56      0.68      0.58      2000\n",
            "weighted avg       0.96      0.90      0.92      2000\n",
            "\n",
            "\n",
            "Decision Tree Results:\n",
            "Accuracy (Decision Tree): 0.9765\n",
            "Classification Report (Decision Tree):\n",
            "               precision    recall  f1-score   support\n",
            "\n",
            "           0       0.99      0.99      0.99      1939\n",
            "           1       0.60      0.69      0.64        61\n",
            "\n",
            "    accuracy                           0.98      2000\n",
            "   macro avg       0.80      0.84      0.81      2000\n",
            "weighted avg       0.98      0.98      0.98      2000\n",
            "\n"
          ]
        }
      ],
      "source": [
        "import pandas as pd\n",
        "import numpy as np\n",
        "from sklearn.model_selection import train_test_split\n",
        "from sklearn.preprocessing import StandardScaler\n",
        "from sklearn.metrics import accuracy_score, classification_report\n",
        "from sklearn.tree import DecisionTreeClassifier\n",
        "from sklearn.ensemble import IsolationForest\n",
        "\n",
        "# Load your CSV dataset\n",
        "# Assuming you have a 'label' column indicating normal (0) or anomaly (1)\n",
        "df = pd.read_csv('/content/predictive_maintenance.csv')\n",
        "\n",
        "# Drop non-numeric columns for simplicity\n",
        "df_numeric = df.drop(['Product ID', 'Type', 'Failure Type'], axis=1)\n",
        "\n",
        "# Separate features (X) and labels (y)\n",
        "X = df_numeric.iloc[:, :-1].values\n",
        "y = df_numeric.iloc[:, -1].values\n",
        "\n",
        "# Split the data into training and testing sets\n",
        "X_train, X_test, y_train, y_test = train_test_split(X, y, test_size=0.2, random_state=42)\n",
        "\n",
        "# Standardize the features for Isolation Forest\n",
        "scaler_if = StandardScaler()\n",
        "X_train_scaled_if = scaler_if.fit_transform(X_train)\n",
        "X_test_scaled_if = scaler_if.transform(X_test)\n",
        "\n",
        "# Standardize the features for Decision Tree\n",
        "scaler_dt = StandardScaler()\n",
        "X_train_scaled_dt = scaler_dt.fit_transform(X_train)\n",
        "X_test_scaled_dt = scaler_dt.transform(X_test)\n",
        "\n",
        "# Anomaly Detection with Isolation Forest\n",
        "clf_anomaly = IsolationForest(contamination=0.1, random_state=42)\n",
        "y_anomaly_pred = clf_anomaly.fit_predict(X_test_scaled_if)\n",
        "\n",
        "# Convert predictions to 0 for normal and 1 for anomaly\n",
        "y_anomaly_pred = [1 if x == -1 else 0 for x in y_anomaly_pred]\n",
        "\n",
        "# Decision Tree Classifier\n",
        "clf_dt = DecisionTreeClassifier(random_state=42)\n",
        "clf_dt.fit(X_train_scaled_dt, y_train)\n",
        "\n",
        "# Predictions with Decision Tree\n",
        "y_dt_pred = clf_dt.predict(X_test_scaled_dt)\n",
        "\n",
        "# Evaluate Anomaly Detection\n",
        "print(\"Anomaly Detection Results:\")\n",
        "print(\"Accuracy (Isolation Forest):\", accuracy_score(y_test, y_anomaly_pred))\n",
        "print(\"Classification Report (Isolation Forest):\\n\", classification_report(y_test, y_anomaly_pred))\n",
        "\n",
        "# Evaluate Decision Tree\n",
        "print(\"\\nDecision Tree Results:\")\n",
        "print(\"Accuracy (Decision Tree):\", accuracy_score(y_test, y_dt_pred))\n",
        "print(\"Classification Report (Decision Tree):\\n\", classification_report(y_test, y_dt_pred))\n"
      ]
    },
    {
      "cell_type": "code",
      "source": [],
      "metadata": {
        "id": "ICWhzjXZ9OdR"
      },
      "execution_count": null,
      "outputs": []
    },
    {
      "cell_type": "code",
      "source": [],
      "metadata": {
        "id": "hZ80Pwna-D8Z"
      },
      "execution_count": null,
      "outputs": []
    }
  ]
}