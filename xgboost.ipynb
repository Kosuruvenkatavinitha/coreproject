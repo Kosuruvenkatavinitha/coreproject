{
  "nbformat": 4,
  "nbformat_minor": 0,
  "metadata": {
    "colab": {
      "provenance": [],
      "mount_file_id": "1Z_KKoxPdAYIQAiHhaooKFHtf5wOU9_0T",
      "authorship_tag": "ABX9TyOKWggAf0NkQ33+ANOcjNYy",
      "include_colab_link": true
    },
    "kernelspec": {
      "name": "python3",
      "display_name": "Python 3"
    },
    "language_info": {
      "name": "python"
    }
  },
  "cells": [
    {
      "cell_type": "markdown",
      "metadata": {
        "id": "view-in-github",
        "colab_type": "text"
      },
      "source": [
        "<a href=\"https://colab.research.google.com/github/Kosuruvenkatavinitha/coreproject/blob/main/xgboost.ipynb\" target=\"_parent\"><img src=\"https://colab.research.google.com/assets/colab-badge.svg\" alt=\"Open In Colab\"/></a>"
      ]
    },
    {
      "cell_type": "code",
      "execution_count": 17,
      "metadata": {
        "colab": {
          "base_uri": "https://localhost:8080/"
        },
        "id": "VlK2qQKRz0Fy",
        "outputId": "aafd0975-fa2b-434d-ab67-fd881fe76878"
      },
      "outputs": [
        {
          "output_type": "stream",
          "name": "stdout",
          "text": [
            "Anomaly Detection Results:\n",
            "Accuracy: 0.903\n",
            "Classification Report:\n",
            "               precision    recall  f1-score   support\n",
            "\n",
            "           0       0.98      0.92      0.95      1939\n",
            "           1       0.16      0.51      0.24        61\n",
            "\n",
            "    accuracy                           0.90      2000\n",
            "   macro avg       0.57      0.71      0.60      2000\n",
            "weighted avg       0.96      0.90      0.93      2000\n",
            "\n",
            "\n",
            "XGBoost Results:\n",
            "Accuracy: 0.9855\n",
            "Classification Report:\n",
            "               precision    recall  f1-score   support\n",
            "\n",
            "           0       0.99      0.99      0.99      1939\n",
            "           1       0.80      0.70      0.75        61\n",
            "\n",
            "    accuracy                           0.99      2000\n",
            "   macro avg       0.89      0.85      0.87      2000\n",
            "weighted avg       0.98      0.99      0.99      2000\n",
            "\n"
          ]
        }
      ],
      "source": [
        "import pandas as pd\n",
        "from sklearn.model_selection import train_test_split\n",
        "from sklearn.ensemble import IsolationForest\n",
        "from xgboost import XGBClassifier\n",
        "from sklearn.metrics import accuracy_score, classification_report\n",
        "\n",
        "# Load your CSV dataset\n",
        "# Assuming you have a 'label' column indicating normal (0) or anomaly (1)\n",
        "df = pd.read_csv('/content/predictive_maintenance[1].csv')\n",
        "\n",
        "# Drop non-numeric columns for simplicity\n",
        "df_numeric = df.drop(['Product ID', 'Type', 'Failure Type'], axis=1)\n",
        "\n",
        "# Separate features (X) and labels (y)\n",
        "X = df_numeric.iloc[:, :-1].values\n",
        "y = df_numeric.iloc[:, -1].values\n",
        "\n",
        "# Split the data into training and testing sets\n",
        "X_train, X_test, y_train, y_test = train_test_split(X, y, test_size=0.2, random_state=42)\n",
        "\n",
        "# Anomaly Detection with Isolation Forest\n",
        "clf_anomaly = IsolationForest(contamination=0.1, random_state=42)\n",
        "clf_anomaly.fit(X_train)\n",
        "\n",
        "# Predict anomalies (1) or normal (0)\n",
        "y_anomaly_pred = clf_anomaly.predict(X_test)\n",
        "\n",
        "# Convert predictions to 0 for normal and 1 for anomaly\n",
        "y_anomaly_pred = [1 if x == -1 else 0 for x in y_anomaly_pred]\n",
        "\n",
        "# XGBoost Classifier\n",
        "clf_xgb = XGBClassifier()\n",
        "clf_xgb.fit(X_train, y_train)\n",
        "\n",
        "# Predictions with XGBoost\n",
        "y_xgb_pred = clf_xgb.predict(X_test)\n",
        "\n",
        "# Evaluate Anomaly Detection\n",
        "print(\"Anomaly Detection Results:\")\n",
        "print(\"Accuracy:\", accuracy_score(y_test, y_anomaly_pred))\n",
        "print(\"Classification Report:\\n\", classification_report(y_test, y_anomaly_pred))\n",
        "\n",
        "# Evaluate XGBoost\n",
        "print(\"\\nXGBoost Results:\")\n",
        "print(\"Accuracy:\", accuracy_score(y_test, y_xgb_pred))\n",
        "print(\"Classification Report:\\n\", classification_report(y_test, y_xgb_pred))\n"
      ]
    },
    {
      "cell_type": "code",
      "source": [],
      "metadata": {
        "id": "hZ80Pwna-D8Z"
      },
      "execution_count": null,
      "outputs": []
    }
  ]
}